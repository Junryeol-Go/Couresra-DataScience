{
 "cells": [
  {
   "cell_type": "markdown",
   "id": "51d22125-963b-4547-8a17-263f7217f394",
   "metadata": {},
   "source": [
    "# Data Science Tools and Ecosystem"
   ]
  },
  {
   "cell_type": "markdown",
   "id": "d2101ade-c0ad-4bc7-9abe-eebb413a086b",
   "metadata": {},
   "source": [
    "In this notebook, Data Science Tools and Ecosystem are summarized."
   ]
  },
  {
   "cell_type": "markdown",
   "id": "3d9cb9fe-aa63-4434-8869-0bf8dfd520b2",
   "metadata": {},
   "source": [
    "**Objectives:**\n",
    "- List popular languages for Data Science\n",
    "- Identify commonly used libraries in Data Science\n",
    "- Understand open source tools for Data Science\n",
    "- Learn how to evaluate arithmetic expressions in Python\n",
    "- Convert time units in Python"
   ]
  },
  {
   "cell_type": "markdown",
   "id": "151dac7a-b36d-4af5-8d45-b81f685da6d7",
   "metadata": {},
   "source": [
    "Some of the popular languages that Data Scientists use are:<br>\n",
    "1. Python\n",
    "2. SQL\n",
    "3. R"
   ]
  },
  {
   "cell_type": "markdown",
   "id": "ac7ed746-9d9f-4153-9bdd-eaff44e57b95",
   "metadata": {},
   "source": [
    "Some of the commonly used libraries used by Data Scientists include:<br>\n",
    "1. Numpy\n",
    "2. Pandas\n",
    "3. Matplotlib\n",
    "4. Tensorflow"
   ]
  },
  {
   "cell_type": "markdown",
   "id": "a72cd832-2912-43ec-aba6-d612eb24471d",
   "metadata": {},
   "source": [
    "| Data Science Tools         |\n",
    "|----------------------------|\n",
    "| Jupyter Notebook           |\n",
    "| RStudio                    |\n",
    "| Visual Studio Code         |"
   ]
  },
  {
   "cell_type": "markdown",
   "id": "81074ed1-01a4-4459-bb5a-024bf4ae1d4c",
   "metadata": {},
   "source": [
    "### Below are a few examples of evaluating arithmetic expressions in Python"
   ]
  },
  {
   "cell_type": "code",
   "execution_count": 1,
   "id": "91c295d1-4cfa-4693-8bb6-7b2fa161fa03",
   "metadata": {},
   "outputs": [
    {
     "data": {
      "text/plain": [
       "17"
      ]
     },
     "execution_count": 1,
     "metadata": {},
     "output_type": "execute_result"
    }
   ],
   "source": [
    "# This a simple arithmetic expression to mutiply then add integers\n",
    "(3*4)+5"
   ]
  },
  {
   "cell_type": "code",
   "execution_count": 4,
   "id": "2a838207-e5b6-458f-a785-8074de7b6385",
   "metadata": {},
   "outputs": [
    {
     "data": {
      "text/plain": [
       "3.3333333333333335"
      ]
     },
     "execution_count": 4,
     "metadata": {},
     "output_type": "execute_result"
    }
   ],
   "source": [
    "# This will convert 200 minutes to hours by diving by 60\n",
    "minutes = 200\n",
    "hours = minutes / 60\n",
    "hours"
   ]
  },
  {
   "cell_type": "markdown",
   "id": "0732a83e-1a65-4bf2-ac1c-d9a489151426",
   "metadata": {},
   "source": [
    "## Author\n",
    "name : Junryeol Go"
   ]
  },
  {
   "cell_type": "code",
   "execution_count": null,
   "id": "a9998f9c-e387-4714-869b-e82356ba1d2c",
   "metadata": {},
   "outputs": [],
   "source": []
  }
 ],
 "metadata": {
  "kernelspec": {
   "display_name": "Python 3 (ipykernel)",
   "language": "python",
   "name": "python3"
  },
  "language_info": {
   "codemirror_mode": {
    "name": "ipython",
    "version": 3
   },
   "file_extension": ".py",
   "mimetype": "text/x-python",
   "name": "python",
   "nbconvert_exporter": "python",
   "pygments_lexer": "ipython3",
   "version": "3.11.7"
  }
 },
 "nbformat": 4,
 "nbformat_minor": 5
}
